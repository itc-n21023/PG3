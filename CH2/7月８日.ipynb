{
 "cells": [
  {
   "cell_type": "code",
   "execution_count": 1,
   "metadata": {},
   "outputs": [
    {
     "name": "stdout",
     "output_type": "stream",
     "text": [
      "True\n"
     ]
    }
   ],
   "source": [
    "print(bool(10))"
   ]
  },
  {
   "cell_type": "code",
   "execution_count": 1,
   "metadata": {},
   "outputs": [
    {
     "data": {
      "text/plain": [
       "5"
      ]
     },
     "execution_count": 1,
     "metadata": {},
     "output_type": "execute_result"
    }
   ],
   "source": [
    "2 + 3"
   ]
  },
  {
   "cell_type": "code",
   "execution_count": 202,
   "metadata": {},
   "outputs": [
    {
     "name": "stdout",
     "output_type": "stream",
     "text": [
      "5\n"
     ]
    }
   ],
   "source": [
    "import random \n",
    "print(random.randint(0, 10))"
   ]
  },
  {
   "cell_type": "code",
   "execution_count": 309,
   "metadata": {},
   "outputs": [
    {
     "data": {
      "text/plain": [
       "['+', '-', '*', '/', '%', '//', '**']"
      ]
     },
     "execution_count": 309,
     "metadata": {},
     "output_type": "execute_result"
    }
   ],
   "source": [
    "ope_list = ['+', '-', '*', '/', '%', '//', '**']\n",
    "ope_list"
   ]
  },
  {
   "cell_type": "code",
   "execution_count": 207,
   "metadata": {},
   "outputs": [
    {
     "data": {
      "text/plain": [
       "[1, 2, 3, 4, 5, 6, 7, 8, 9]"
      ]
     },
     "execution_count": 207,
     "metadata": {},
     "output_type": "execute_result"
    }
   ],
   "source": [
    "int_list = [1,2,3,4,5,6,7,8,9]\n",
    "int_list"
   ]
  },
  {
   "cell_type": "code",
   "execution_count": 1006,
   "metadata": {},
   "outputs": [
    {
     "data": {
      "text/plain": [
       "'6+7'"
      ]
     },
     "execution_count": 1006,
     "metadata": {},
     "output_type": "execute_result"
    }
   ],
   "source": [
    "import random \n",
    "\n",
    "intA = random.randint(0, 8)\n",
    "opeA = random.randint(0, 3)\n",
    "intB = random.randint(0, 8)\n",
    "\n",
    "str(int_list[intA]) + ope_list[opeA]+str(int_list[intB])\n"
   ]
  },
  {
   "cell_type": "code",
   "execution_count": 1005,
   "metadata": {},
   "outputs": [
    {
     "data": {
      "text/plain": [
       "'1%5>4'"
      ]
     },
     "execution_count": 1005,
     "metadata": {},
     "output_type": "execute_result"
    }
   ],
   "source": [
    "import random\n",
    "\n",
    "ope_list = ['+',  '-',  '*',  '/', '%', '//', '**', '==', 'and', 'or', '!=', '<', '>', '<=', '>=']\n",
    "int_list = [1,2,3,4,5,6,7,8,9]\n",
    "\n",
    "intA = random.randint(0, 8)\n",
    "opeA = random.randint(0, 14)\n",
    "intB = random.randint(0, 8)\n",
    "opeB = random.randint(0, 14)\n",
    "intC = random.randint(0, 8)\n",
    "\n",
    "str(int_list[intA]) + ope_list[opeA]+ str(int_list[intB]) + ope_list[opeB] + str(int_list[intC])"
   ]
  },
  {
   "cell_type": "code",
   "execution_count": 137,
   "metadata": {},
   "outputs": [
    {
     "name": "stdout",
     "output_type": "stream",
     "text": [
      "1**5*3\n",
      "1%4/2\n",
      "8/5**5\n",
      "9*6**9\n",
      "1-3//9\n",
      "7+9*7\n",
      "1//3+9\n",
      "5//6*8\n",
      "2//2*2\n",
      "9**6//5\n",
      "1/4*5\n",
      "7*1%7\n",
      "9**8//8\n",
      "4/9%3\n",
      "2**3+7\n",
      "9*1/5\n",
      "8-1*2\n",
      "4**8/9\n",
      "2-8+7\n",
      "6**2-1\n",
      "7%5*7\n",
      "7+1+9\n",
      "5-2-9\n",
      "3%1*5\n",
      "1+8%6\n",
      "1+2+6\n",
      "9//5**8\n",
      "9/5*2\n",
      "4-7**9\n",
      "2**2*5\n",
      "4//3**2\n",
      "1-1-9\n",
      "6/8/3\n",
      "7/8**6\n",
      "8**2/7\n",
      "2-7*7\n",
      "6%7//4\n",
      "2**9-3\n",
      "9-8+7\n",
      "3**8-3\n",
      "1/4/3\n",
      "2-1+2\n",
      "5//6**3\n",
      "9**7/8\n",
      "1%9-7\n",
      "1//3/2\n",
      "8**3*6\n",
      "7%5/9\n",
      "9**2-7\n",
      "1%4/4\n",
      "4**1+5\n",
      "5//8*4\n",
      "2+7/8\n",
      "9//3%9\n",
      "7-3+1\n",
      "7//5-9\n",
      "8**7//6\n",
      "5*2/3\n",
      "6+4%6\n",
      "3**6/6\n",
      "9*3**9\n",
      "7*3-5\n",
      "9%6%8\n",
      "8%2//2\n",
      "6+9*2\n",
      "2%4*2\n",
      "3**6-2\n",
      "5-2+5\n",
      "5-6//9\n",
      "8-4-3\n",
      "6-3*1\n",
      "7/2-1\n",
      "5/9+1\n",
      "1**3*3\n",
      "8/3/7\n",
      "5-4%1\n",
      "5+3%7\n",
      "3**5%1\n",
      "9**1/5\n",
      "9%2*7\n",
      "7%3/5\n",
      "8/6//8\n",
      "9*6//3\n",
      "2+1-4\n",
      "9**4-9\n",
      "2*1+5\n",
      "8%4*1\n",
      "9/6%1\n",
      "3*5%3\n",
      "5*9*6\n",
      "6*3**3\n",
      "7+3-6\n",
      "6/1*9\n",
      "1%8**9\n",
      "5*4//6\n",
      "9*5%6\n",
      "2+7+5\n",
      "2+7/2\n",
      "6-3//4\n",
      "\n"
     ]
    }
   ],
   "source": [
    "import random\n",
    "\n",
    "ope_list = ['+',  '-',  '*',  '/',  '%',  '//',  '**']\n",
    "int_list = [1,2,3,4,5,6,7,8,9]\n",
    "\n",
    "int_form = ''\n",
    "for b in range(1, 100):\n",
    "    intA = random.randint(0, len(int_list)-1)\n",
    "    int_form += str(int_list[intA])\n",
    "\n",
    "\n",
    "    for a in range(1, 3):\n",
    "        \n",
    "        opeA = random.randint(0, len(ope_list)-1)\n",
    "        intB = random.randint(0, len(int_list)-1)\n",
    "        int_form += ope_list[opeA]+str(int_list[intB])\n",
    "        \n",
    "    int_form += '\\n'\n",
    "     \n",
    "print(int_form)"
   ]
  },
  {
   "cell_type": "code",
   "execution_count": null,
   "metadata": {},
   "outputs": [],
   "source": []
  },
  {
   "cell_type": "code",
   "execution_count": null,
   "metadata": {},
   "outputs": [],
   "source": []
  },
  {
   "cell_type": "code",
   "execution_count": null,
   "metadata": {},
   "outputs": [],
   "source": []
  },
  {
   "cell_type": "code",
   "execution_count": null,
   "metadata": {},
   "outputs": [],
   "source": []
  },
  {
   "cell_type": "code",
   "execution_count": null,
   "metadata": {},
   "outputs": [],
   "source": []
  },
  {
   "cell_type": "code",
   "execution_count": null,
   "metadata": {},
   "outputs": [],
   "source": []
  },
  {
   "cell_type": "code",
   "execution_count": null,
   "metadata": {},
   "outputs": [],
   "source": []
  }
 ],
 "metadata": {
  "kernelspec": {
   "display_name": "Python 3",
   "language": "python",
   "name": "python3"
  },
  "language_info": {
   "codemirror_mode": {
    "name": "ipython",
    "version": 3
   },
   "file_extension": ".py",
   "mimetype": "text/x-python",
   "name": "python",
   "nbconvert_exporter": "python",
   "pygments_lexer": "ipython3",
   "version": "3.8.5"
  }
 },
 "nbformat": 4,
 "nbformat_minor": 4
}
