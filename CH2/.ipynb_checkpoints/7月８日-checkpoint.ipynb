{
 "cells": [
  {
   "cell_type": "code",
   "execution_count": 3,
   "metadata": {},
   "outputs": [
    {
     "name": "stdout",
     "output_type": "stream",
     "text": [
      "True\n"
     ]
    }
   ],
   "source": [
    "print(bool(10))"
   ]
  },
  {
   "cell_type": "code",
   "execution_count": 202,
   "metadata": {},
   "outputs": [
    {
     "name": "stdout",
     "output_type": "stream",
     "text": [
      "5\n"
     ]
    }
   ],
   "source": [
    "import random \n",
    "print(random.randint(0, 10))"
   ]
  },
  {
   "cell_type": "code",
   "execution_count": 309,
   "metadata": {},
   "outputs": [
    {
     "data": {
      "text/plain": [
       "['+', '-', '*', '/', '%', '//', '**']"
      ]
     },
     "execution_count": 309,
     "metadata": {},
     "output_type": "execute_result"
    }
   ],
   "source": [
    "ope_list = ['+', '-', '*', '/', '%', '//', '**']\n",
    "ope_list"
   ]
  },
  {
   "cell_type": "code",
   "execution_count": 207,
   "metadata": {},
   "outputs": [
    {
     "data": {
      "text/plain": [
       "[1, 2, 3, 4, 5, 6, 7, 8, 9]"
      ]
     },
     "execution_count": 207,
     "metadata": {},
     "output_type": "execute_result"
    }
   ],
   "source": [
    "int_list = [1,2,3,4,5,6,7,8,9]\n",
    "int_list"
   ]
  },
  {
   "cell_type": "code",
   "execution_count": 1006,
   "metadata": {},
   "outputs": [
    {
     "data": {
      "text/plain": [
       "'6+7'"
      ]
     },
     "execution_count": 1006,
     "metadata": {},
     "output_type": "execute_result"
    }
   ],
   "source": [
    "import random \n",
    "\n",
    "intA = random.randint(0, 8)\n",
    "opeA = random.randint(0, 3)\n",
    "intB = random.randint(0, 8)\n",
    "\n",
    "str(int_list[intA]) + ope_list[opeA]+str(int_list[intB])\n"
   ]
  },
  {
   "cell_type": "code",
   "execution_count": 1005,
   "metadata": {},
   "outputs": [
    {
     "data": {
      "text/plain": [
       "'1%5>4'"
      ]
     },
     "execution_count": 1005,
     "metadata": {},
     "output_type": "execute_result"
    }
   ],
   "source": [
    "import random\n",
    "\n",
    "ope_list = ['+',  '-',  '*',  '/', '%', '//', '**', '==', 'and', 'or', '!=', '<', '>', '<=', '>=']\n",
    "int_list = [1,2,3,4,5,6,7,8,9]\n",
    "\n",
    "intA = random.randint(0, 8)\n",
    "opeA = random.randint(0, 14)\n",
    "intB = random.randint(0, 8)\n",
    "opeB = random.randint(0, 14)\n",
    "intC = random.randint(0, 8)\n",
    "\n",
    "str(int_list[intA]) + ope_list[opeA]+ str(int_list[intB]) + ope_list[opeB] + str(int_list[intC])"
   ]
  },
  {
   "cell_type": "code",
   "execution_count": 1369,
   "metadata": {},
   "outputs": [
    {
     "name": "stdout",
     "output_type": "stream",
     "text": [
      "99\n",
      "2-9**7\n"
     ]
    }
   ],
   "source": [
    "import random\n",
    "\n",
    "ope_list = ['+',  '-',  '*',  '/',  '%',  '//',  '**']\n",
    "int_list = [1,2,3,4,5,6,7,8,9]\n",
    "\n",
    "\n",
    "intA = random.randint(0, len(int_list)-1)\n",
    "int_form = str(int_list[intA])\n",
    "\n",
    "\n",
    "for a in range(1, 3):\n",
    "        \n",
    "    opeA = random.randint(0, len(ope_list)-1)\n",
    "    intB = random.randint(0, len(int_list)-1)\n",
    "    int_form += ope_list[opeA]+str(int_list[intB])\n",
    "    \n",
    "print(i)\n",
    "print(int_form)"
   ]
  },
  {
   "cell_type": "code",
   "execution_count": null,
   "metadata": {},
   "outputs": [],
   "source": []
  },
  {
   "cell_type": "code",
   "execution_count": null,
   "metadata": {},
   "outputs": [],
   "source": []
  },
  {
   "cell_type": "code",
   "execution_count": null,
   "metadata": {},
   "outputs": [],
   "source": []
  },
  {
   "cell_type": "code",
   "execution_count": null,
   "metadata": {},
   "outputs": [],
   "source": []
  },
  {
   "cell_type": "code",
   "execution_count": null,
   "metadata": {},
   "outputs": [],
   "source": []
  },
  {
   "cell_type": "code",
   "execution_count": null,
   "metadata": {},
   "outputs": [],
   "source": []
  },
  {
   "cell_type": "code",
   "execution_count": null,
   "metadata": {},
   "outputs": [],
   "source": []
  }
 ],
 "metadata": {
  "kernelspec": {
   "display_name": "Python 3",
   "language": "python",
   "name": "python3"
  },
  "language_info": {
   "codemirror_mode": {
    "name": "ipython",
    "version": 3
   },
   "file_extension": ".py",
   "mimetype": "text/x-python",
   "name": "python",
   "nbconvert_exporter": "python",
   "pygments_lexer": "ipython3",
   "version": "3.8.5"
  }
 },
 "nbformat": 4,
 "nbformat_minor": 4
}
